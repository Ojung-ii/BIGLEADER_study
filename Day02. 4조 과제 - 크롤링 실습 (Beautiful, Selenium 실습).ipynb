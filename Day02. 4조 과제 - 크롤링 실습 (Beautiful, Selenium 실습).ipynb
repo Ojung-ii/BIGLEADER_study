{
 "cells": [
  {
   "cell_type": "markdown",
   "id": "ba65a049",
   "metadata": {},
   "source": [
    "## 4조 과제 - 크롤링 실습 (Beautiful, Selenium 실습)\n",
    "> 허유진, 윤이정, 오정현, 한수현\n",
    "\n",
    "### 🐾 과제 설명\n",
    "지도 제작 전문 회사 (주)커피프린스는 매일 전국 주유소에서 가장 싼 곳을 찾아 사용자에게 제공해주고자 한다.  \n",
    "회사에서 매일 조사를 할 수 없기 때문에 [오피넷](https://www.opinet.co.kr/)에서 제공해주는 정보를 사용하고자 한다.  \n",
    "업무를 배정받은 팀 4호점은 한동안 구를 모두 바꾸어 가며 파일을 모두 다운로드 받았다.  \n",
    "팀원 이정이는 해당 업무의 자동화를 제안하고 싶었고, `서울` 지역을 대상으로 자동화하는 코드를 작성해 팀장을 설득하려고 한다.  \n",
    "이정이가 목적을 달성할 수 있도록 크롤링 코드를 작성해보자.  \n",
    "\n",
    "**TO-DO**  \n",
    "\n",
    "- [x] [오피넷](https://www.opinet.co.kr/)에서 서울 지역 모든 주유소 가격 정보 다운로드 자동화하기\n",
    "- [x] 오류가 발생할 경우, markdown 형식으로 정리하기"
   ]
  },
  {
   "cell_type": "code",
   "execution_count": 1,
   "id": "0bea0709",
   "metadata": {},
   "outputs": [],
   "source": [
    "import time\n",
    "from selenium import webdriver\n",
    "from selenium.webdriver.common.by import By "
   ]
  },
  {
   "cell_type": "markdown",
   "id": "fa046a18",
   "metadata": {},
   "source": [
    "### 겪은 문제점 1\n",
    "**발생 코드**  \n",
    "```python\n",
    "from selenium.webdriver.common.by import By \n",
    "driver = webdriver.Chrome('chromedriver')\n",
    "```\n",
    "\n",
    "**발생 오류**  \n",
    "Attribute Error : 'str' object has no attribute '_ignore_local_proxy' with ChromeDriverManager\n",
    "\n",
    "**발생 이유**  \n",
    "selenium 4.10부터 chromedriver의 절대경로는 Service로 전달해준다.\n",
    "\n",
    "**해결 방법**  \n",
    "\n",
    "- chromedriver가 코드와 같은 폴더에 있는 경우\n",
    "\n",
    "```python\n",
    "from selenium import webdriver\n",
    "driver = webdriver.Chrome()\n",
    "# ...\n",
    "driver.quit()\n",
    "```\n",
    "\n",
    "- chromedriver의 절대경로를 명시해주는 경우\n",
    "\n",
    "```python\n",
    "from selenium import webdriver\n",
    "from selenium.webdriver.chrome.service import Service\n",
    "service = Service(executable_path=\"PATH_TO_DRIVER\") # pwd 로 chromedriver가 위치한 경로를 확인 후 넣어주어야 함\n",
    "options = webdriver.ChromeOptions()\n",
    "driver = webdriver.Chrome(service=service, options=options)\n",
    "# ...\n",
    "driver.quit()\n",
    "```"
   ]
  },
  {
   "cell_type": "markdown",
   "id": "ebaa741c",
   "metadata": {},
   "source": [
    "### 겪은 문제점 2\n",
    "**발생 이유**\n",
    "mac os에서 chromedriver 실행 권한이 없어서 발생하는 문제  \n",
    "\n",
    "**해결 방법** : chromedriver에 권한 부여\n",
    "- **reference** : [hanakim120님 [Mac] \bChrome driver 설치, Path 설정, mac 에러 해결](https://velog.io/@hanakim120/MacOS-Chrome-driver-%EC%84%A4%EC%B9%98%ED%95%98%EA%B3%A0-Path-%EC%84%A4%EC%A0%95-mac-%EC%97%90%EB%9F%AC-%ED%95%B4%EA%B2%B0)\n",
    "```bash\n",
    "xattr -d com.apple.quarantine /usr/local/bin/chromedriver\n",
    "```\n"
   ]
  },
  {
   "cell_type": "code",
   "execution_count": 2,
   "id": "92ce4c60",
   "metadata": {},
   "outputs": [],
   "source": [
    "driver = webdriver.Chrome()"
   ]
  },
  {
   "cell_type": "code",
   "execution_count": 3,
   "id": "7b632065",
   "metadata": {},
   "outputs": [],
   "source": [
    "driver.get(\"https://www.opinet.co.kr/searRgSelect.do\")\n",
    "time.sleep(10)"
   ]
  },
  {
   "cell_type": "code",
   "execution_count": 5,
   "id": "add5c7cc",
   "metadata": {},
   "outputs": [],
   "source": [
    "area = driver.find_element(By.XPATH, '//*[@id=\"SIDO_NM0\"]')"
   ]
  },
  {
   "cell_type": "code",
   "execution_count": 6,
   "id": "a89d588b",
   "metadata": {},
   "outputs": [],
   "source": [
    "area.send_keys('서울')"
   ]
  },
  {
   "cell_type": "markdown",
   "id": "8a1f7b71",
   "metadata": {},
   "source": [
    "### 겪은 문제점 3\n",
    "**문제 사항**  \n",
    "`gu_list = gu_list_raw.find_elements(By.TAG_NAME, 'option')` 실행 오류  \n",
    "\n",
    "**발생 원인**  \n",
    "gu_list_raw 로딩 오류 발생  \n",
    "\n",
    "```python\n",
    "gu_list_raw = driver.find_element(By.XPATH, '//*[@id=\"SIGUNGU_NM0\"]')\n",
    "# find_elements 가 되면 다른 코드가 실행되어 find_elements가 담고 있는 내용이 달라진다.\n",
    "```\n",
    " \n",
    "**함수 정리**  \n",
    "> html 등 주어진 문서에서 element를 어떻게 선택할지 전략을 선택하고, 값을 넣어주면 해당하는 elements 를 가져온다.\n",
    "\n",
    "\n",
    "**find_element(by='id', value: Optional[str] = None) → selenium.webdriver.remote.webelement.WebElement\n",
    "**  \n",
    "Find an element given a By strategy and locator.\n",
    "```bash\n",
    "Usage:\t\n",
    "element = driver.find_element(By.ID, 'foo')\n",
    "Return type:\t\n",
    "WebElement\n",
    "\n",
    "```\n",
    "\n",
    "**find_elements(by='id', value: Optional[str] = None) → List[selenium.webdriver.remote.webelement.WebElement]**  \n",
    "Find elements given a By strategy and locator.\n",
    "\n",
    "```bash\n",
    "Usage:\t\n",
    "elements = driver.find_elements(By.CLASS_NAME, 'foo')\n",
    "Return type:\t\n",
    "list of WebElement\n",
    "```\n",
    "\n",
    "- **reference** : [selenium.webdriver.common By의 쓰임새](https://www.selenium.dev/selenium/docs/api/py/webdriver/selenium.webdriver.common.by.html)\n",
    "\n",
    "**By 속성**  \n",
    "각 전략에 따라서 html 요소를 선택함  \n",
    "```\n",
    "CLASS_NAME = 'class name'\n",
    "CSS_SELECTOR = 'css selector'\n",
    "ID = 'id'\n",
    "LINK_TEXT = 'link text'\n",
    "NAME = 'name'\n",
    "PARTIAL_LINK_TEXT = 'partial link text'\n",
    "TAG_NAME = 'tag name'\n",
    "XPATH = 'xpath'\n",
    "```\n",
    "\n",
    "\n",
    "<details>\n",
    "<summary>▼ By 전략 별 설명보기 클릭</summary>\n",
    "\n",
    "<!-- summary 아래 한칸 공백 두어야함 -->\n",
    "\n",
    "`By.ID`: ID 속성 값에 따라 요소를 찾습니다.  \n",
    "`By.NAME`: name 속성 값에 따라 요소를 찾습니다.  \n",
    "`By.CLASS_NAME`: class 속성 값에 따라 요소를 찾습니다.  \n",
    "`By.TAG_NAME`: HTML 태그 이름에 따라 요소를 찾습니다.  \n",
    "`By.LINK_TEXT`: 정확한 텍스트를 가진 앵커 요소(a 태그)를 찾습니다.   \n",
    "`By.PARTIAL_LINK_TEXT`: 부분 텍스트를 가진 앵커 요소(a 태그)를 찾습니다.  \n",
    "`By.CSS_SELECTOR`: CSS 선택자를 사용하여 요소를 찾습니다.  \n",
    "`By.XPATH`: XPath 표현식을 사용하여 요소를 찾습니다.  \n",
    "</details>\n",
    "\n"
   ]
  },
  {
   "cell_type": "code",
   "execution_count": 7,
   "id": "f5d80c24",
   "metadata": {},
   "outputs": [],
   "source": [
    "# 구/데이터 입력을 위한 xpath 확인\n",
    "gu_list_raw = driver.find_element(By.XPATH, '//*[@id=\"SIGUNGU_NM0\"]')"
   ]
  },
  {
   "cell_type": "code",
   "execution_count": 8,
   "id": "16531323",
   "metadata": {},
   "outputs": [],
   "source": [
    "gu_list = gu_list_raw.find_elements(By.TAG_NAME, 'option')"
   ]
  },
  {
   "cell_type": "code",
   "execution_count": 9,
   "id": "1e283237",
   "metadata": {},
   "outputs": [
    {
     "data": {
      "text/plain": [
       "[<selenium.webdriver.remote.webelement.WebElement (session=\"efc932ef3e1f614afd20d945e0f2541f\", element=\"740AF6CE2AA0E075AF56D47FE12215AE_element_54\")>,\n",
       " <selenium.webdriver.remote.webelement.WebElement (session=\"efc932ef3e1f614afd20d945e0f2541f\", element=\"740AF6CE2AA0E075AF56D47FE12215AE_element_55\")>,\n",
       " <selenium.webdriver.remote.webelement.WebElement (session=\"efc932ef3e1f614afd20d945e0f2541f\", element=\"740AF6CE2AA0E075AF56D47FE12215AE_element_56\")>,\n",
       " <selenium.webdriver.remote.webelement.WebElement (session=\"efc932ef3e1f614afd20d945e0f2541f\", element=\"740AF6CE2AA0E075AF56D47FE12215AE_element_57\")>,\n",
       " <selenium.webdriver.remote.webelement.WebElement (session=\"efc932ef3e1f614afd20d945e0f2541f\", element=\"740AF6CE2AA0E075AF56D47FE12215AE_element_58\")>,\n",
       " <selenium.webdriver.remote.webelement.WebElement (session=\"efc932ef3e1f614afd20d945e0f2541f\", element=\"740AF6CE2AA0E075AF56D47FE12215AE_element_59\")>,\n",
       " <selenium.webdriver.remote.webelement.WebElement (session=\"efc932ef3e1f614afd20d945e0f2541f\", element=\"740AF6CE2AA0E075AF56D47FE12215AE_element_60\")>,\n",
       " <selenium.webdriver.remote.webelement.WebElement (session=\"efc932ef3e1f614afd20d945e0f2541f\", element=\"740AF6CE2AA0E075AF56D47FE12215AE_element_61\")>,\n",
       " <selenium.webdriver.remote.webelement.WebElement (session=\"efc932ef3e1f614afd20d945e0f2541f\", element=\"740AF6CE2AA0E075AF56D47FE12215AE_element_62\")>,\n",
       " <selenium.webdriver.remote.webelement.WebElement (session=\"efc932ef3e1f614afd20d945e0f2541f\", element=\"740AF6CE2AA0E075AF56D47FE12215AE_element_63\")>,\n",
       " <selenium.webdriver.remote.webelement.WebElement (session=\"efc932ef3e1f614afd20d945e0f2541f\", element=\"740AF6CE2AA0E075AF56D47FE12215AE_element_64\")>,\n",
       " <selenium.webdriver.remote.webelement.WebElement (session=\"efc932ef3e1f614afd20d945e0f2541f\", element=\"740AF6CE2AA0E075AF56D47FE12215AE_element_65\")>,\n",
       " <selenium.webdriver.remote.webelement.WebElement (session=\"efc932ef3e1f614afd20d945e0f2541f\", element=\"740AF6CE2AA0E075AF56D47FE12215AE_element_66\")>,\n",
       " <selenium.webdriver.remote.webelement.WebElement (session=\"efc932ef3e1f614afd20d945e0f2541f\", element=\"740AF6CE2AA0E075AF56D47FE12215AE_element_67\")>,\n",
       " <selenium.webdriver.remote.webelement.WebElement (session=\"efc932ef3e1f614afd20d945e0f2541f\", element=\"740AF6CE2AA0E075AF56D47FE12215AE_element_68\")>,\n",
       " <selenium.webdriver.remote.webelement.WebElement (session=\"efc932ef3e1f614afd20d945e0f2541f\", element=\"740AF6CE2AA0E075AF56D47FE12215AE_element_69\")>,\n",
       " <selenium.webdriver.remote.webelement.WebElement (session=\"efc932ef3e1f614afd20d945e0f2541f\", element=\"740AF6CE2AA0E075AF56D47FE12215AE_element_70\")>,\n",
       " <selenium.webdriver.remote.webelement.WebElement (session=\"efc932ef3e1f614afd20d945e0f2541f\", element=\"740AF6CE2AA0E075AF56D47FE12215AE_element_71\")>,\n",
       " <selenium.webdriver.remote.webelement.WebElement (session=\"efc932ef3e1f614afd20d945e0f2541f\", element=\"740AF6CE2AA0E075AF56D47FE12215AE_element_72\")>,\n",
       " <selenium.webdriver.remote.webelement.WebElement (session=\"efc932ef3e1f614afd20d945e0f2541f\", element=\"740AF6CE2AA0E075AF56D47FE12215AE_element_73\")>,\n",
       " <selenium.webdriver.remote.webelement.WebElement (session=\"efc932ef3e1f614afd20d945e0f2541f\", element=\"740AF6CE2AA0E075AF56D47FE12215AE_element_74\")>,\n",
       " <selenium.webdriver.remote.webelement.WebElement (session=\"efc932ef3e1f614afd20d945e0f2541f\", element=\"740AF6CE2AA0E075AF56D47FE12215AE_element_75\")>,\n",
       " <selenium.webdriver.remote.webelement.WebElement (session=\"efc932ef3e1f614afd20d945e0f2541f\", element=\"740AF6CE2AA0E075AF56D47FE12215AE_element_76\")>,\n",
       " <selenium.webdriver.remote.webelement.WebElement (session=\"efc932ef3e1f614afd20d945e0f2541f\", element=\"740AF6CE2AA0E075AF56D47FE12215AE_element_77\")>,\n",
       " <selenium.webdriver.remote.webelement.WebElement (session=\"efc932ef3e1f614afd20d945e0f2541f\", element=\"740AF6CE2AA0E075AF56D47FE12215AE_element_78\")>,\n",
       " <selenium.webdriver.remote.webelement.WebElement (session=\"efc932ef3e1f614afd20d945e0f2541f\", element=\"740AF6CE2AA0E075AF56D47FE12215AE_element_79\")>]"
      ]
     },
     "execution_count": 9,
     "metadata": {},
     "output_type": "execute_result"
    }
   ],
   "source": [
    "gu_list"
   ]
  },
  {
   "cell_type": "code",
   "execution_count": 10,
   "id": "eab5c41e",
   "metadata": {},
   "outputs": [],
   "source": [
    "gu_names = [option.get_attribute('value') for option in gu_list]"
   ]
  },
  {
   "cell_type": "code",
   "execution_count": 11,
   "id": "c3c7e9db",
   "metadata": {},
   "outputs": [
    {
     "data": {
      "text/plain": [
       "['강남구',\n",
       " '강동구',\n",
       " '강북구',\n",
       " '강서구',\n",
       " '관악구',\n",
       " '광진구',\n",
       " '구로구',\n",
       " '금천구',\n",
       " '노원구',\n",
       " '도봉구',\n",
       " '동대문구',\n",
       " '동작구',\n",
       " '마포구',\n",
       " '서대문구',\n",
       " '서초구',\n",
       " '성동구',\n",
       " '성북구',\n",
       " '송파구',\n",
       " '양천구',\n",
       " '영등포구',\n",
       " '용산구',\n",
       " '은평구',\n",
       " '종로구',\n",
       " '중구',\n",
       " '중랑구']"
      ]
     },
     "execution_count": 11,
     "metadata": {},
     "output_type": "execute_result"
    }
   ],
   "source": [
    "gu_names.remove('')\n",
    "gu_names"
   ]
  },
  {
   "cell_type": "code",
   "execution_count": 12,
   "id": "f0fe714e",
   "metadata": {},
   "outputs": [],
   "source": [
    "element = driver.find_element(By.ID,'SIGUNGU_NM0')\n",
    "element.send_keys(gu_names[0]) # 지칭은 여기까지"
   ]
  },
  {
   "cell_type": "code",
   "execution_count": 13,
   "id": "a9069100",
   "metadata": {},
   "outputs": [],
   "source": [
    "#조회버튼의 Xpath를 찾아서 클릭\n",
    "xpath ='''//*[@id=\"searRgSelect\"]/span'''\n",
    "element_sel_gu = driver.find_element(By.XPATH, xpath).click()"
   ]
  },
  {
   "cell_type": "code",
   "execution_count": 19,
   "id": "c020a10a",
   "metadata": {},
   "outputs": [],
   "source": [
    "import time\n",
    "\n",
    "# 반복문을 이용하여 엑셀파일 다운로드 진행\n",
    "for gu in (gu_names):\n",
    "    element = driver.find_element(By.ID, 'SIGUNGU_NM0')\n",
    "    element.send_keys(gu)\n",
    "    time.sleep(2)  # 데이터 획득 위한 지연 시간\n",
    "    xpath = '''//*[@id=\"searRgSelect\"]/span'''\n",
    "    element_sel_gu = driver.find_element(By.XPATH, xpath).click()\n",
    "    time.sleep(1)\n",
    "    xpath = '''//*[@id=\"glopopd_excel\"]/span'''\n",
    "    element_get_excel = driver.find_element(By.XPATH, xpath).click()\n",
    "    time.sleep(1)"
   ]
  },
  {
   "cell_type": "markdown",
   "id": "94632549",
   "metadata": {},
   "source": [
    "## ✨ Congratulations! "
   ]
  },
  {
   "cell_type": "code",
   "execution_count": null,
   "id": "81b39ae0",
   "metadata": {},
   "outputs": [],
   "source": []
  },
  {
   "cell_type": "code",
   "execution_count": null,
   "id": "8d6cc114",
   "metadata": {},
   "outputs": [],
   "source": []
  }
 ],
 "metadata": {
  "kernelspec": {
   "display_name": "Python 3 (ipykernel)",
   "language": "python",
   "name": "python3"
  },
  "language_info": {
   "codemirror_mode": {
    "name": "ipython",
    "version": 3
   },
   "file_extension": ".py",
   "mimetype": "text/x-python",
   "name": "python",
   "nbconvert_exporter": "python",
   "pygments_lexer": "ipython3",
   "version": "3.9.12"
  },
  "toc": {
   "base_numbering": 1,
   "nav_menu": {},
   "number_sections": true,
   "sideBar": true,
   "skip_h1_title": false,
   "title_cell": "Table of Contents",
   "title_sidebar": "Contents",
   "toc_cell": false,
   "toc_position": {},
   "toc_section_display": true,
   "toc_window_display": false
  }
 },
 "nbformat": 4,
 "nbformat_minor": 5
}
